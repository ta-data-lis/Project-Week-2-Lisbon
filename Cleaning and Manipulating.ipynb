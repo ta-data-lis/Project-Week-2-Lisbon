{
 "cells": [
  {
   "cell_type": "markdown",
   "metadata": {},
   "source": [
    "# Import libraries"
   ]
  },
  {
   "cell_type": "code",
   "execution_count": 1,
   "metadata": {},
   "outputs": [],
   "source": [
    "import pandas as pd\n",
    "import numpy as np\n",
    "import mysql.connector"
   ]
  },
  {
   "cell_type": "markdown",
   "metadata": {},
   "source": [
    "# Import conector\n",
    "This didn't work due to problems with the connection with MySQL Server"
   ]
  },
  {
   "cell_type": "raw",
   "metadata": {},
   "source": [
    "cnx = mysql.connector.connect (user = \"root\", password = \"Sporting_93\", host = '127.0.0.1', database= 'mobility_AML', use_pure = True)"
   ]
  },
  {
   "cell_type": "raw",
   "metadata": {},
   "source": [
    "# inicialize cursor\n",
    "\n",
    "cursor = cnx.cursor ()\n",
    "\n",
    "# inicialize query\n",
    "\n",
    "query = (\"SELECT * FROM `IV.16_duration`;\")\n",
    "\n",
    "# send query to database\n",
    "cursor.execute(query)"
   ]
  },
  {
   "cell_type": "raw",
   "metadata": {},
   "source": [
    "for i, data in enumerate(cursor):\n",
    "    duration_df.loc[i] = data   "
   ]
  },
  {
   "cell_type": "raw",
   "metadata": {},
   "source": [
    "cursor.close()\n",
    "cnx.close()"
   ]
  },
  {
   "cell_type": "markdown",
   "metadata": {},
   "source": [
    "# Importing Data and Cleaning\n",
    "## Duration Table"
   ]
  },
  {
   "cell_type": "code",
   "execution_count": 2,
   "metadata": {
    "scrolled": true
   },
   "outputs": [
    {
     "data": {
      "text/html": [
       "<div>\n",
       "<style scoped>\n",
       "    .dataframe tbody tr th:only-of-type {\n",
       "        vertical-align: middle;\n",
       "    }\n",
       "\n",
       "    .dataframe tbody tr th {\n",
       "        vertical-align: top;\n",
       "    }\n",
       "\n",
       "    .dataframe thead th {\n",
       "        text-align: right;\n",
       "    }\n",
       "</style>\n",
       "<table border=\"1\" class=\"dataframe\">\n",
       "  <thead>\n",
       "    <tr style=\"text-align: right;\">\n",
       "      <th></th>\n",
       "      <th>Work</th>\n",
       "    </tr>\n",
       "  </thead>\n",
       "  <tbody>\n",
       "    <tr>\n",
       "      <th>car_driver</th>\n",
       "      <td>24.8</td>\n",
       "    </tr>\n",
       "    <tr>\n",
       "      <th>car_pass</th>\n",
       "      <td>25.5</td>\n",
       "    </tr>\n",
       "    <tr>\n",
       "      <th>motorbike</th>\n",
       "      <td>19.5</td>\n",
       "    </tr>\n",
       "    <tr>\n",
       "      <th>public_bus</th>\n",
       "      <td>48.3</td>\n",
       "    </tr>\n",
       "    <tr>\n",
       "      <th>private_bus</th>\n",
       "      <td>33.2</td>\n",
       "    </tr>\n",
       "  </tbody>\n",
       "</table>\n",
       "</div>"
      ],
      "text/plain": [
       "             Work\n",
       "car_driver   24.8\n",
       "car_pass     25.5\n",
       "motorbike    19.5\n",
       "public_bus   48.3\n",
       "private_bus  33.2"
      ]
     },
     "execution_count": 2,
     "metadata": {},
     "output_type": "execute_result"
    }
   ],
   "source": [
    "#import table\n",
    "duration_df = pd.read_csv(\"/home/inrx/Ironhack/Projects/Project-Week-2-Lisbon/dataset-lx-transp/IV.16.csv\")\n",
    "\n",
    "# rename the headers\n",
    "duration_df = duration_df.rename(columns={\"MUN\":\"Motive\", \"motor_bike\":\"motorbike\",\"tax\":\"taxi\"})\n",
    "\n",
    "# Slice row table for work (the object of this analysis)\n",
    "work_duration = duration_df[duration_df['Motive'] == 'Work']\n",
    "\n",
    "# Drop the columns with the means of transportation we don't want to consider\n",
    "work_duration = work_duration.drop(columns=['other','taxi','plane'])\n",
    "\n",
    "# In order to determine the mode of transportation with max and min durations we decided \n",
    "# to transpose the DataFrame.\n",
    "work_duration_t=work_duration.transpose()\n",
    "\n",
    "# After transposing the DataFrame we had to rename the header with the correct name. This was done by \n",
    "# using the \"rename\" command to set the columns names has the first row (DataFrame.iloc[0])\n",
    "\n",
    "work_duration_t = work_duration_t.rename(columns=work_duration_t.iloc[0])\n",
    "\n",
    "# Afterwards we had to drop the row with the first row of the DataFrame\n",
    "work_duration_t = work_duration_t.drop(\"Motive\", axis=0)\n",
    "\n",
    "# we also dedided to drop walking since we considerer not importante to our conclusions \n",
    "work_duration_t = work_duration_t.drop(\"walk\", axis=0)\n",
    "\n",
    "work_duration_t.head()"
   ]
  },
  {
   "cell_type": "code",
   "execution_count": 3,
   "metadata": {
    "scrolled": false
   },
   "outputs": [
    {
     "data": {
      "text/html": [
       "<div>\n",
       "<style scoped>\n",
       "    .dataframe tbody tr th:only-of-type {\n",
       "        vertical-align: middle;\n",
       "    }\n",
       "\n",
       "    .dataframe tbody tr th {\n",
       "        vertical-align: top;\n",
       "    }\n",
       "\n",
       "    .dataframe thead th {\n",
       "        text-align: right;\n",
       "    }\n",
       "</style>\n",
       "<table border=\"1\" class=\"dataframe\">\n",
       "  <thead>\n",
       "    <tr style=\"text-align: right;\">\n",
       "      <th></th>\n",
       "      <th>Work</th>\n",
       "    </tr>\n",
       "  </thead>\n",
       "  <tbody>\n",
       "    <tr>\n",
       "      <th>count</th>\n",
       "      <td>9.0</td>\n",
       "    </tr>\n",
       "    <tr>\n",
       "      <th>unique</th>\n",
       "      <td>9.0</td>\n",
       "    </tr>\n",
       "    <tr>\n",
       "      <th>top</th>\n",
       "      <td>19.5</td>\n",
       "    </tr>\n",
       "    <tr>\n",
       "      <th>freq</th>\n",
       "      <td>1.0</td>\n",
       "    </tr>\n",
       "  </tbody>\n",
       "</table>\n",
       "</div>"
      ],
      "text/plain": [
       "        Work\n",
       "count    9.0\n",
       "unique   9.0\n",
       "top     19.5\n",
       "freq     1.0"
      ]
     },
     "execution_count": 3,
     "metadata": {},
     "output_type": "execute_result"
    }
   ],
   "source": [
    "work_duration_t.describe()"
   ]
  },
  {
   "cell_type": "markdown",
   "metadata": {},
   "source": [
    "## Distance Table"
   ]
  },
  {
   "cell_type": "code",
   "execution_count": 4,
   "metadata": {},
   "outputs": [
    {
     "data": {
      "text/html": [
       "<div>\n",
       "<style scoped>\n",
       "    .dataframe tbody tr th:only-of-type {\n",
       "        vertical-align: middle;\n",
       "    }\n",
       "\n",
       "    .dataframe tbody tr th {\n",
       "        vertical-align: top;\n",
       "    }\n",
       "\n",
       "    .dataframe thead th {\n",
       "        text-align: right;\n",
       "    }\n",
       "</style>\n",
       "<table border=\"1\" class=\"dataframe\">\n",
       "  <thead>\n",
       "    <tr style=\"text-align: right;\">\n",
       "      <th></th>\n",
       "      <th>Work</th>\n",
       "    </tr>\n",
       "  </thead>\n",
       "  <tbody>\n",
       "    <tr>\n",
       "      <th>car_driver</th>\n",
       "      <td>14.7</td>\n",
       "    </tr>\n",
       "    <tr>\n",
       "      <th>car_pass</th>\n",
       "      <td>15.8</td>\n",
       "    </tr>\n",
       "    <tr>\n",
       "      <th>motorbike</th>\n",
       "      <td>13.3</td>\n",
       "    </tr>\n",
       "    <tr>\n",
       "      <th>public_bus</th>\n",
       "      <td>12.5</td>\n",
       "    </tr>\n",
       "    <tr>\n",
       "      <th>private_bus</th>\n",
       "      <td>23.4</td>\n",
       "    </tr>\n",
       "  </tbody>\n",
       "</table>\n",
       "</div>"
      ],
      "text/plain": [
       "             Work\n",
       "car_driver   14.7\n",
       "car_pass     15.8\n",
       "motorbike    13.3\n",
       "public_bus   12.5\n",
       "private_bus  23.4"
      ]
     },
     "execution_count": 4,
     "metadata": {},
     "output_type": "execute_result"
    }
   ],
   "source": [
    "#import\n",
    "distance_df = pd.read_csv (\"/home/inrx/Ironhack/Projects/Project-Week-2-Lisbon/dataset-lx-transp/IV.17.csv\")\n",
    "distance_df = distance_df.drop(columns=['plaine','other','táx'])\n",
    "work_distance = distance_df[distance_df['Motive'] == 'Work']\n",
    "\n",
    "# In order to determine the mode of transportation with max and min distances we decided \n",
    "# to transpose the DataFrame.\n",
    "work_distance_t = work_distance.transpose()\n",
    "\n",
    "# After transposing the DataFrame we had to rename the columns with the correct name. This was done by \n",
    "# using the \"rename\" command to set the columns names has the first row (DataFrame.iloc[0])\n",
    "\n",
    "work_distance_t = work_distance_t.rename(columns=work_distance_t.iloc[0])\n",
    "\n",
    "# Afterwards we had to drop the row with the first row of the DataFrame\n",
    "work_distance_t = work_distance_t.drop(\"Motive\", axis=0)\n",
    "\n",
    "# we also dedided to drop walking since we considerer not importante to our conclusions \n",
    "work_distance_t = work_distance_t.drop(\"walk\", axis=0)\n",
    "\n",
    "work_distance_t.head()"
   ]
  },
  {
   "cell_type": "code",
   "execution_count": 5,
   "metadata": {
    "scrolled": true
   },
   "outputs": [
    {
     "data": {
      "text/html": [
       "<div>\n",
       "<style scoped>\n",
       "    .dataframe tbody tr th:only-of-type {\n",
       "        vertical-align: middle;\n",
       "    }\n",
       "\n",
       "    .dataframe tbody tr th {\n",
       "        vertical-align: top;\n",
       "    }\n",
       "\n",
       "    .dataframe thead th {\n",
       "        text-align: right;\n",
       "    }\n",
       "</style>\n",
       "<table border=\"1\" class=\"dataframe\">\n",
       "  <thead>\n",
       "    <tr style=\"text-align: right;\">\n",
       "      <th></th>\n",
       "      <th>Work</th>\n",
       "    </tr>\n",
       "  </thead>\n",
       "  <tbody>\n",
       "    <tr>\n",
       "      <th>count</th>\n",
       "      <td>9.0</td>\n",
       "    </tr>\n",
       "    <tr>\n",
       "      <th>unique</th>\n",
       "      <td>9.0</td>\n",
       "    </tr>\n",
       "    <tr>\n",
       "      <th>top</th>\n",
       "      <td>15.8</td>\n",
       "    </tr>\n",
       "    <tr>\n",
       "      <th>freq</th>\n",
       "      <td>1.0</td>\n",
       "    </tr>\n",
       "  </tbody>\n",
       "</table>\n",
       "</div>"
      ],
      "text/plain": [
       "        Work\n",
       "count    9.0\n",
       "unique   9.0\n",
       "top     15.8\n",
       "freq     1.0"
      ]
     },
     "execution_count": 5,
     "metadata": {},
     "output_type": "execute_result"
    }
   ],
   "source": [
    "work_distance_t.describe()"
   ]
  },
  {
   "cell_type": "markdown",
   "metadata": {},
   "source": [
    "## Layover Table"
   ]
  },
  {
   "cell_type": "code",
   "execution_count": 6,
   "metadata": {
    "scrolled": true
   },
   "outputs": [
    {
     "data": {
      "text/html": [
       "<div>\n",
       "<style scoped>\n",
       "    .dataframe tbody tr th:only-of-type {\n",
       "        vertical-align: middle;\n",
       "    }\n",
       "\n",
       "    .dataframe tbody tr th {\n",
       "        vertical-align: top;\n",
       "    }\n",
       "\n",
       "    .dataframe thead th {\n",
       "        text-align: right;\n",
       "    }\n",
       "</style>\n",
       "<table border=\"1\" class=\"dataframe\">\n",
       "  <thead>\n",
       "    <tr style=\"text-align: right;\">\n",
       "      <th></th>\n",
       "      <th>transport</th>\n",
       "      <th>Total</th>\n",
       "      <th>0</th>\n",
       "      <th>1</th>\n",
       "      <th>&gt; 2</th>\n",
       "    </tr>\n",
       "  </thead>\n",
       "  <tbody>\n",
       "    <tr>\n",
       "      <th>0</th>\n",
       "      <td>car_driver</td>\n",
       "      <td>100.0</td>\n",
       "      <td>96.220762</td>\n",
       "      <td>3.565533</td>\n",
       "      <td>0.213705</td>\n",
       "    </tr>\n",
       "    <tr>\n",
       "      <th>1</th>\n",
       "      <td>car_pass</td>\n",
       "      <td>100.0</td>\n",
       "      <td>96.175160</td>\n",
       "      <td>3.424541</td>\n",
       "      <td>0.400301</td>\n",
       "    </tr>\n",
       "    <tr>\n",
       "      <th>2</th>\n",
       "      <td>motorbike</td>\n",
       "      <td>100.0</td>\n",
       "      <td>98.747164</td>\n",
       "      <td>1.221630</td>\n",
       "      <td>0.031206</td>\n",
       "    </tr>\n",
       "    <tr>\n",
       "      <th>3</th>\n",
       "      <td>taxi</td>\n",
       "      <td>100.0</td>\n",
       "      <td>94.813824</td>\n",
       "      <td>4.987164</td>\n",
       "      <td>0.199064</td>\n",
       "    </tr>\n",
       "    <tr>\n",
       "      <th>4</th>\n",
       "      <td>public_bus</td>\n",
       "      <td>100.0</td>\n",
       "      <td>55.334864</td>\n",
       "      <td>26.249279</td>\n",
       "      <td>18.415857</td>\n",
       "    </tr>\n",
       "  </tbody>\n",
       "</table>\n",
       "</div>"
      ],
      "text/plain": [
       "    transport  Total          0          1        > 2\n",
       "0  car_driver  100.0  96.220762   3.565533   0.213705\n",
       "1    car_pass  100.0  96.175160   3.424541   0.400301\n",
       "2   motorbike  100.0  98.747164   1.221630   0.031206\n",
       "3        taxi  100.0  94.813824   4.987164   0.199064\n",
       "4  public_bus  100.0  55.334864  26.249279  18.415857"
      ]
     },
     "execution_count": 6,
     "metadata": {},
     "output_type": "execute_result"
    }
   ],
   "source": [
    "# importing table\n",
    "layover_df = pd.read_csv (\"/home/inrx/Ironhack/Projects/Project-Week-2-Lisbon/dataset-lx-transp/IV.18.csv\", \\\n",
    "                          header=None, names=[\"transport\",\"Total\",\"0\",\"1\",\"> 2\",\"a\",\"b\",\"c\",\"d\"])\n",
    "\n",
    "# droping wrong columns \n",
    "layover_columns = [\"a\",\"b\",\"c\",\"d\"]\n",
    "layover_df = layover_df.drop(layover_columns, axis = 1)\n",
    "\n",
    "# Finding the relative values per row for each column (percentage)\n",
    "\n",
    "layover_df[\"0\"]=layover_df[\"0\"]*100/layover_df[\"Total\"] \n",
    "layover_df[\"1\"]=layover_df[\"1\"]*100/layover_df[\"Total\"] \n",
    "layover_df[\"> 2\"]=layover_df[\"> 2\"]*100/layover_df[\"Total\"]\n",
    "layover_df[\"Total\"]=layover_df[\"Total\"]*100/layover_df[\"Total\"]\n",
    "\n",
    "layover_df.head()"
   ]
  },
  {
   "cell_type": "markdown",
   "metadata": {},
   "source": [
    "# Functions"
   ]
  },
  {
   "cell_type": "code",
   "execution_count": 8,
   "metadata": {},
   "outputs": [],
   "source": [
    "def find_layovers_pct (transport):\n",
    "    \n",
    "    \"\"\" Returns the  number of layovers \n",
    "    for the desired transport (requires the name of the transport)\"\"\"\n",
    "    \n",
    "    row = layover_df.loc[layover_df['transport'] == transport].index.item()\n",
    "    \n",
    "    layovers_0 = round(layover_df.loc[row,'0'],2)\n",
    "    layovers_1 = round (layover_df.loc[row,'1'],2)\n",
    "    layovers_2 = round (layover_df.loc[row,'> 2'],2)\n",
    "    \n",
    "    max_pct_layover = max(layovers_0, layovers_1, layovers_2)    \n",
    "    \n",
    "    return max_pct_layover"
   ]
  },
  {
   "cell_type": "code",
   "execution_count": 9,
   "metadata": {},
   "outputs": [],
   "source": [
    "def find_nmb_layover (transport):\n",
    "    \n",
    "    \"\"\"Returns te number of layovers corresponding \n",
    "    to max layover per transport\"\"\"\n",
    "    \n",
    "    row = layover_df.loc[layover_df['transport'] == transport].index.item()\n",
    "    \n",
    "    layovers_0 = round(layover_df.loc[row,'0'],2)\n",
    "    layovers_1 = round (layover_df.loc[row,'1'],2)\n",
    "    layovers_2 = round (layover_df.loc[row,'> 2'],2)\n",
    "    \n",
    "    max_pct_layover = max(layovers_0, layovers_1, layovers_2)    \n",
    "    \n",
    "    nmb_layovers = lambda pct: 0 if pct == layovers_0 else \\\n",
    "    (1 if pct == layovers_1 else '> 2')\n",
    "    \n",
    "    return nmb_layovers(max_pct_layover)"
   ]
  },
  {
   "cell_type": "code",
   "execution_count": 37,
   "metadata": {},
   "outputs": [],
   "source": [
    "def avg_speed (x,y):\n",
    "    \"\"\"Returns the average speed, given two arguments: x: distance (in km) and y: duration (in minutes)\"\"\" \n",
    "    return round(x/(y/60),2)"
   ]
  },
  {
   "cell_type": "markdown",
   "metadata": {},
   "source": [
    "# Calculations"
   ]
  },
  {
   "cell_type": "markdown",
   "metadata": {},
   "source": [
    "## Duration"
   ]
  },
  {
   "cell_type": "code",
   "execution_count": 10,
   "metadata": {},
   "outputs": [
    {
     "name": "stdout",
     "output_type": "stream",
     "text": [
      "The average duration of commute to go to work is 36.68 min.\n"
     ]
    }
   ],
   "source": [
    "\"\"\"\n",
    "Find the average transport duration\n",
    "\"\"\"\n",
    "\n",
    "# calculating avg commute duration for work\n",
    "mean_duration = round(work_duration_t[\"Work\"].mean(),2)\n",
    "print (f'The average duration of commute to go to work is {mean_duration} min.')"
   ]
  },
  {
   "cell_type": "code",
   "execution_count": 11,
   "metadata": {},
   "outputs": [
    {
     "name": "stdout",
     "output_type": "stream",
     "text": [
      "Boat is the transport with the longest duration, 54.2 min.\n"
     ]
    }
   ],
   "source": [
    "\"\"\"\n",
    "Find the transport with longer duration\n",
    "\"\"\"\n",
    "\n",
    "# Find the modes of transportation with maximum duration \n",
    "max_duration = work_duration_t[\"Work\"].max()\n",
    "\n",
    "# Find the mode of transportation with max duration\n",
    "max_duration_row = work_duration_t.loc[work_duration_t['Work'] == max_duration].index.item()\n",
    "\n",
    "print (f'{max_duration_row.title()} is the transport with the longest duration, {max_duration} min.')"
   ]
  },
  {
   "cell_type": "code",
   "execution_count": 12,
   "metadata": {},
   "outputs": [
    {
     "name": "stdout",
     "output_type": "stream",
     "text": [
      "Motorbike is the transport with the shorter duration, 19.5 min.\n"
     ]
    }
   ],
   "source": [
    "\"\"\"\n",
    "Find the transport with shorter duration\n",
    "\"\"\"\n",
    "\n",
    "# Find the modes of transportation with min duration \n",
    "min_duration = work_duration_t[\"Work\"].min()\n",
    "\n",
    "# Find the mode of transportation with min duration\n",
    "min_duration_row = work_duration_t.loc[work_duration_t['Work'] == min_duration].index.item()\n",
    "\n",
    "print (f'{min_duration_row.title()} is the transport with the shorter duration, {min_duration} min.')"
   ]
  },
  {
   "cell_type": "markdown",
   "metadata": {},
   "source": [
    "## Commute distance"
   ]
  },
  {
   "cell_type": "code",
   "execution_count": 13,
   "metadata": {},
   "outputs": [
    {
     "name": "stdout",
     "output_type": "stream",
     "text": [
      "The average distance of commute to work is 14.9 km.\n"
     ]
    }
   ],
   "source": [
    "\"\"\"\n",
    "Find the average transport distance\n",
    "\"\"\"\n",
    "mean_distance = round(work_distance_t[\"Work\"].mean(),2)\n",
    "\n",
    "print (f'The average distance of commute to work is {mean_distance} km.')"
   ]
  },
  {
   "cell_type": "code",
   "execution_count": 14,
   "metadata": {},
   "outputs": [
    {
     "name": "stdout",
     "output_type": "stream",
     "text": [
      "The transport that makes shorter distances is Bike, making 8.0 km per day.\n"
     ]
    }
   ],
   "source": [
    "\"\"\"\n",
    "Find the transport with shorter distance\n",
    "\"\"\"\n",
    "\n",
    "# Find the shortest distance in the table\n",
    "min_distance = work_distance_t[\"Work\"].min()\n",
    "\n",
    "# Find the mode of transportation with min duration\n",
    "min_distance_row = work_distance_t.loc[work_distance_t['Work'] == min_distance].index.item()\n",
    "\n",
    "print (f'The transport that makes shorter distances is {min_distance_row.title()}, \\\n",
    "making {min_distance} km per day.')"
   ]
  },
  {
   "cell_type": "code",
   "execution_count": 15,
   "metadata": {},
   "outputs": [
    {
     "name": "stdout",
     "output_type": "stream",
     "text": [
      "The transport that makes longer distances is Private_Bus, making 23.4 km per day.\n"
     ]
    }
   ],
   "source": [
    "\"\"\"\n",
    "Find the transport with longer distance\n",
    "\"\"\"\n",
    "\n",
    "# Find the longest distance in the table\n",
    "max_distance = work_distance_t[\"Work\"].max()\n",
    "\n",
    "# Find the mode of transportation with max duration\n",
    "max_distance_row = work_distance_t.loc[work_distance_t['Work'] == max_distance].index.item()\n",
    "\n",
    "print (f'The transport that makes longer distances is {max_distance_row.title()}, \\\n",
    "making {max_distance} km per day.')"
   ]
  },
  {
   "cell_type": "markdown",
   "metadata": {},
   "source": [
    "### What if we exclude the Private Bus?"
   ]
  },
  {
   "cell_type": "code",
   "execution_count": 16,
   "metadata": {},
   "outputs": [
    {
     "name": "stdout",
     "output_type": "stream",
     "text": [
      "The transport that makes longer distances is Boat, making 19.0 km per day.\n"
     ]
    }
   ],
   "source": [
    "\"\"\"\n",
    "Find the transport with longer distance, excluding private bus\n",
    "\"\"\"\n",
    "\n",
    "# work_distance_t_np = no private bus\n",
    "work_distance_t_np = work_distance_t.drop(\"private_bus\", axis=0)\n",
    "\n",
    "# find the transport with bigger distance\n",
    "max_distance_np = work_distance_t_np[\"Work\"].max()\n",
    "\n",
    "# find its name trhough index\n",
    "max_distance_row_np = work_distance_t_np.loc[work_distance_t_np['Work'] == max_distance_np].index.item()\n",
    "\n",
    "print (f'The transport that makes longer distances is {max_distance_row_np.title()}, \\\n",
    "making {max_distance_np} km per day.')"
   ]
  },
  {
   "cell_type": "markdown",
   "metadata": {},
   "source": [
    "## Layover"
   ]
  },
  {
   "cell_type": "code",
   "execution_count": 17,
   "metadata": {},
   "outputs": [
    {
     "name": "stdout",
     "output_type": "stream",
     "text": [
      "The transport with the most layovers is boat, with about 73.27 % of all people doing 2 or more layovers\n"
     ]
    }
   ],
   "source": [
    "\"\"\"\n",
    "Find the transport with more layovers\n",
    "\"\"\"\n",
    "\n",
    "# find the max layovers row in the \"> 2\" column\n",
    "max_layovers = layover_df[\"> 2\"].max()\n",
    "\n",
    "# Find the index corresponding to max_layovers\n",
    "max_layovers_row = layover_df.loc[layover_df['> 2'] == max_layovers].index.item()\n",
    "\n",
    "# Then, given the index, we find the transport of the corresponding index\n",
    "max_layovers_transport = layover_df.loc[max_layovers_row,'transport'] #boat\n",
    "max_layovers_transport = max_layovers_transport.lower()\n",
    "\n",
    "print (f'The transport with the most layovers is {max_layovers_transport}, with \\\n",
    "about {round(max_layovers,2)} % of all people doing 2 or more layovers')"
   ]
  },
  {
   "cell_type": "code",
   "execution_count": 32,
   "metadata": {},
   "outputs": [
    {
     "name": "stdout",
     "output_type": "stream",
     "text": [
      "The transport with the less layovers is motorbike, with about 98.75 % of all people not doing any layovers.\n"
     ]
    }
   ],
   "source": [
    "\"\"\"\n",
    "Find the transport with less layovers\n",
    "\"\"\"\n",
    "\n",
    "# find the min layovers row in the \"0\" column\n",
    "min_layovers = layover_df[\"0\"].max()\n",
    "\n",
    "# Find the index coresponding to min_layovers\n",
    "min_layovers_row = layover_df.loc[layover_df['0'] == min_layovers].index.item()\n",
    "\n",
    "# Then, given the index, we find the transport of the corresponding index\n",
    "min_layovers_transport = layover_df.loc[min_layovers_row,'transport']\n",
    "min_layovers_transport = min_layovers_transport.lower()\n",
    "\n",
    "print (f'The transport with the less layovers is {min_layovers_transport}, with \\\n",
    "about {round(min_layovers,2)} % of all people not doing any layovers.')"
   ]
  },
  {
   "cell_type": "markdown",
   "metadata": {},
   "source": [
    "## Relation between Duration and Distance"
   ]
  },
  {
   "cell_type": "code",
   "execution_count": 28,
   "metadata": {},
   "outputs": [
    {
     "name": "stdout",
     "output_type": "stream",
     "text": [
      "Private_Bus is used, on average, for 33.2 min.\n",
      "Bike is used, on average, for 32.2 min.\n",
      "Boat is used, on average, for 54.2.min\n"
     ]
    }
   ],
   "source": [
    "\"\"\"\n",
    "Find the duration of the transport with the max and distance\n",
    "\"\"\"\n",
    "\n",
    "max_distance_duration = work_duration_t[\"Work\"][max_distance_row]\n",
    "min_distance_duration = work_duration_t[\"Work\"][min_distance_row]\n",
    "\n",
    "# Excluding private bus\n",
    "max_distance_duration_np = work_duration_t[\"Work\"][max_distance_row_np]\n",
    "\n",
    "print (f'{max_distance_row.title()} is used, on average, for {max_distance_duration} min.')\n",
    "print (f'{min_distance_row.title()} is used, on average, for {min_distance_duration} min.')\n",
    "print (f'{max_distance_row_np.title()} is used, on average, for {max_distance_duration_np}.min')"
   ]
  },
  {
   "cell_type": "code",
   "execution_count": 20,
   "metadata": {
    "scrolled": true
   },
   "outputs": [
    {
     "name": "stdout",
     "output_type": "stream",
     "text": [
      "Boat is used, on average, for 19.0 km.\n",
      "Motorbike is used, on average, for 13.3 km.\n"
     ]
    }
   ],
   "source": [
    "\"\"\"\n",
    "Find the distance of the transport with the max and duration\n",
    "\"\"\"\n",
    "\n",
    "max_duration_distance = work_distance_t[\"Work\"][max_duration_row]\n",
    "min_duration_distance = work_distance_t[\"Work\"][min_duration_row]\n",
    "\n",
    "print (f'{max_duration_row.title()} is used, on average, for {max_duration_distance} km.')\n",
    "print (f'{min_duration_row.title()} is used, on average, for {min_duration_distance} km.')"
   ]
  },
  {
   "cell_type": "markdown",
   "metadata": {},
   "source": [
    "## Finding the layovers for each transportation analysed above"
   ]
  },
  {
   "cell_type": "code",
   "execution_count": 29,
   "metadata": {},
   "outputs": [
    {
     "name": "stdout",
     "output_type": "stream",
     "text": [
      "About 98.75 people traveling in motorbike make 0 layovers.\n",
      "About 73.27 people traveling in boat make > 2 layovers.\n"
     ]
    }
   ],
   "source": [
    "\"\"\"\n",
    "Find the number of layovers for the fastest and slowest transport\n",
    "\"\"\"\n",
    "\n",
    "min_dur_tpt_layovers_pct = find_layovers_pct(min_duration_row)\n",
    "min_dur_tpt_layovers_nmb = find_nmb_layover(min_duration_row)\n",
    "\n",
    "print (f'About {min_dur_tpt_layovers_pct} people traveling in {min_duration_row} \\\n",
    "make {min_dur_tpt_layovers_nmb} layovers.')\n",
    "\n",
    "max_dur_tpt_layovers_pct = find_layovers_pct(max_duration_row)\n",
    "max_dur_tpt_layovers_nmb = find_nmb_layover(max_duration_row)\n",
    "\n",
    "print (f'About {max_dur_tpt_layovers_pct} people traveling in {max_duration_row} \\\n",
    "make {max_dur_tpt_layovers_nmb} layovers.')"
   ]
  },
  {
   "cell_type": "code",
   "execution_count": 31,
   "metadata": {},
   "outputs": [
    {
     "name": "stdout",
     "output_type": "stream",
     "text": [
      "About 92.64 people traveling in bike make 0 layovers.\n",
      "About 87.69 people traveling in private_bus make 0 layovers.\n",
      "About 73.27 people traveling in boat make > 2 layovers.\n"
     ]
    }
   ],
   "source": [
    "\"\"\"\n",
    "Find the number of layovers for the longest and shorter transport\n",
    "\"\"\"\n",
    "\n",
    "min_dst_tpt_layovers_pct = find_layovers_pct(min_distance_row)\n",
    "min_dst_tpt_layovers_nmb = find_nmb_layover(min_distance_row)\n",
    "\n",
    "print (f'About {min_dst_tpt_layovers_pct} people traveling in {min_distance_row} \\\n",
    "make {min_dst_tpt_layovers_nmb} layovers.')\n",
    "\n",
    "max_dst_tpt_layovers_pct = find_layovers_pct(max_distance_row)\n",
    "max_dst_tpt_layovers_nmb = find_nmb_layover(max_distance_row)\n",
    "\n",
    "print (f'About {max_dst_tpt_layovers_pct} people traveling in {max_distance_row} \\\n",
    "make {max_dst_tpt_layovers_nmb} layovers.')\n",
    "\n",
    "max_dst_tpt_np_layovers_pct = find_layovers_pct(max_distance_row_np)\n",
    "max_dst_tpt_np_layovers_nmb = find_nmb_layover(max_distance_row_np)\n",
    "\n",
    "print (f'About {max_dst_tpt_np_layovers_pct} people traveling in {max_distance_row_np} \\\n",
    "make {max_dst_tpt_np_layovers_nmb} layovers.')"
   ]
  },
  {
   "cell_type": "markdown",
   "metadata": {},
   "source": [
    "## Speed"
   ]
  },
  {
   "cell_type": "code",
   "execution_count": 39,
   "metadata": {
    "scrolled": true
   },
   "outputs": [],
   "source": [
    "\"\"\" \n",
    "Find the average speed for the transports analysed above\n",
    "\"\"\"\n",
    "\n",
    "min_dur_speed = avg_speed(min_duration_distance, min_duration)\n",
    "max_dur_speed = avg_speed(max_duration_distance, max_duration)\n",
    "min_dst_speed = avg_speed(min_distance, min_distance_duration)\n",
    "max_dst_speed = avg_speed(max_distance, max_distance_duration)\n",
    "max_dst_speed_np = avg_speed(max_distance_np, max_distance_duration_np)\n"
   ]
  },
  {
   "cell_type": "markdown",
   "metadata": {},
   "source": [
    "# Conclusions"
   ]
  },
  {
   "cell_type": "markdown",
   "metadata": {},
   "source": [
    "## Does the number of layovers influences the duration of commute?\n",
    "Our hypothesis was that the duration of the commute was influenced by the number of layovers "
   ]
  },
  {
   "cell_type": "code",
   "execution_count": 26,
   "metadata": {
    "scrolled": true
   },
   "outputs": [
    {
     "name": "stdout",
     "output_type": "stream",
     "text": [
      "The number of layovers influences the commute duration.\n"
     ]
    }
   ],
   "source": [
    "if max_layovers_transport == max_duration_row and min_layovers_transport == min_duration_row:\n",
    "    print (f'The number of layovers influences the commute duration.')\n",
    "    \n",
    "else:\n",
    "    print (f\"there is no relationship between the number of layovers and commute duration\")"
   ]
  },
  {
   "cell_type": "markdown",
   "metadata": {},
   "source": [
    "## Are duration and distance positively related?\n",
    "Our hypothesis was that the duration of the commute was related with the commute distance"
   ]
  },
  {
   "cell_type": "markdown",
   "metadata": {},
   "source": [
    "### If we consider Private Bus:"
   ]
  },
  {
   "cell_type": "code",
   "execution_count": 21,
   "metadata": {},
   "outputs": [
    {
     "name": "stdout",
     "output_type": "stream",
     "text": [
      "There is no relation between distance and duration of the commutes\n"
     ]
    }
   ],
   "source": [
    "if max_distance_row == max_duration_row:\n",
    "    print ('Longer (time) commutes and longer distances are related')\n",
    "    \n",
    "else:\n",
    "    print ('There is no relation between distance and duration of the commutes')"
   ]
  },
  {
   "cell_type": "markdown",
   "metadata": {},
   "source": [
    "### If we don't consider Private Bus:"
   ]
  },
  {
   "cell_type": "code",
   "execution_count": 22,
   "metadata": {},
   "outputs": [
    {
     "name": "stdout",
     "output_type": "stream",
     "text": [
      "Longer (time) commutes and longer distances are related\n"
     ]
    }
   ],
   "source": [
    "if max_distance_row_np == max_duration_row:\n",
    "    print ('Longer (time) commutes and longer distances are related')\n",
    "    \n",
    "else:\n",
    "    print ('There is no relation between distance and duration of the commutes')"
   ]
  },
  {
   "cell_type": "markdown",
   "metadata": {},
   "source": [
    "# Sumary Table"
   ]
  },
  {
   "cell_type": "code",
   "execution_count": 58,
   "metadata": {},
   "outputs": [
    {
     "data": {
      "text/html": [
       "<div>\n",
       "<style scoped>\n",
       "    .dataframe tbody tr th:only-of-type {\n",
       "        vertical-align: middle;\n",
       "    }\n",
       "\n",
       "    .dataframe tbody tr th {\n",
       "        vertical-align: top;\n",
       "    }\n",
       "\n",
       "    .dataframe thead th {\n",
       "        text-align: right;\n",
       "    }\n",
       "</style>\n",
       "<table border=\"1\" class=\"dataframe\">\n",
       "  <thead>\n",
       "    <tr style=\"text-align: right;\">\n",
       "      <th></th>\n",
       "      <th>transport</th>\n",
       "      <th>km</th>\n",
       "      <th>duration</th>\n",
       "      <th>km/h</th>\n",
       "      <th>% layover</th>\n",
       "      <th>layover times</th>\n",
       "    </tr>\n",
       "  </thead>\n",
       "  <tbody>\n",
       "    <tr>\n",
       "      <th>3</th>\n",
       "      <td>private_bus</td>\n",
       "      <td>23.4</td>\n",
       "      <td>33.2</td>\n",
       "      <td>42.29</td>\n",
       "      <td>87.69</td>\n",
       "      <td>0</td>\n",
       "    </tr>\n",
       "    <tr>\n",
       "      <th>1</th>\n",
       "      <td>motorbike</td>\n",
       "      <td>13.3</td>\n",
       "      <td>19.5</td>\n",
       "      <td>40.92</td>\n",
       "      <td>98.75</td>\n",
       "      <td>0</td>\n",
       "    </tr>\n",
       "    <tr>\n",
       "      <th>0</th>\n",
       "      <td>boat</td>\n",
       "      <td>19.0</td>\n",
       "      <td>54.2</td>\n",
       "      <td>21.03</td>\n",
       "      <td>73.27</td>\n",
       "      <td>&gt; 2</td>\n",
       "    </tr>\n",
       "    <tr>\n",
       "      <th>2</th>\n",
       "      <td>bike</td>\n",
       "      <td>8.0</td>\n",
       "      <td>32.2</td>\n",
       "      <td>14.91</td>\n",
       "      <td>92.64</td>\n",
       "      <td>0</td>\n",
       "    </tr>\n",
       "  </tbody>\n",
       "</table>\n",
       "</div>"
      ],
      "text/plain": [
       "     transport    km  duration   km/h  % layover layover times\n",
       "3  private_bus  23.4      33.2  42.29      87.69             0\n",
       "1    motorbike  13.3      19.5  40.92      98.75             0\n",
       "0         boat  19.0      54.2  21.03      73.27           > 2\n",
       "2         bike   8.0      32.2  14.91      92.64             0"
      ]
     },
     "execution_count": 58,
     "metadata": {},
     "output_type": "execute_result"
    }
   ],
   "source": [
    "conclusion_df = pd.DataFrame(columns = [\"transport\",\"km\",\"duration\",\"km/h\",\"% layover\",\"layover times\"])\n",
    "\n",
    "row_1 =[max_duration_row, max_duration_distance, max_duration, max_dur_speed,\\\n",
    "        max_dur_tpt_layovers_pct, max_dur_tpt_layovers_nmb]\n",
    "\n",
    "row_2 = [min_duration_row, min_duration_distance, min_duration, min_dur_speed,\\\n",
    "        min_dur_tpt_layovers_pct, min_dur_tpt_layovers_nmb]\n",
    "\n",
    "row_3 = [min_distance_row, min_distance, min_distance_duration, min_dst_speed,\\\n",
    "        min_dst_tpt_layovers_pct, min_dst_tpt_layovers_nmb]\n",
    "\n",
    "row_4 = [max_distance_row, max_distance, max_distance_duration, max_dst_speed,\\\n",
    "        max_dst_tpt_layovers_pct, max_dst_tpt_layovers_nmb]\n",
    "\n",
    "conclusion_df.loc[0] = row_1\n",
    "conclusion_df.loc[1] = row_2\n",
    "conclusion_df.loc[2] = row_3\n",
    "conclusion_df.loc[3] = row_4\n",
    "\n",
    "conclusion_df.sort_values(\"km/h\", axis = 0, ascending = False,\n",
    "                          inplace = True, na_position ='last') \n",
    "\n",
    "conclusion_df"
   ]
  }
 ],
 "metadata": {
  "kernelspec": {
   "display_name": "Python 3",
   "language": "python",
   "name": "python3"
  },
  "language_info": {
   "codemirror_mode": {
    "name": "ipython",
    "version": 3
   },
   "file_extension": ".py",
   "mimetype": "text/x-python",
   "name": "python",
   "nbconvert_exporter": "python",
   "pygments_lexer": "ipython3",
   "version": "3.6.8"
  }
 },
 "nbformat": 4,
 "nbformat_minor": 2
}
